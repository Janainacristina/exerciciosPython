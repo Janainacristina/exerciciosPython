{
  "nbformat": 4,
  "nbformat_minor": 0,
  "metadata": {
    "colab": {
      "name": "Cópia de Untitled6.ipynb",
      "provenance": [],
      "authorship_tag": "ABX9TyPr3b3vhjUsnl/vcDEFHsSy",
      "include_colab_link": true
    },
    "kernelspec": {
      "name": "python3",
      "display_name": "Python 3"
    },
    "language_info": {
      "name": "python"
    }
  },
  "cells": [
    {
      "cell_type": "markdown",
      "metadata": {
        "id": "view-in-github",
        "colab_type": "text"
      },
      "source": [
        "<a href=\"https://colab.research.google.com/github/Janainacristina/exerciciosPython/blob/main/C%C3%B3pia_de_Untitled6.ipynb\" target=\"_parent\"><img src=\"https://colab.research.google.com/assets/colab-badge.svg\" alt=\"Open In Colab\"/></a>"
      ]
    },
    {
      "cell_type": "code",
      "metadata": {
        "colab": {
          "base_uri": "https://localhost:8080/"
        },
        "id": "F3T0mTT9jr_T",
        "outputId": "fa52a44a-4935-4fc4-a88c-7bebc2d6e16d"
      },
      "source": [
        "print('Bem vindo ao jogo \"Detetive\". \\nNosso objetivo é descobrir se foi você quem assassinou a Madalena, ou assegurar sua inocência. \\nEntão... Que comecem os jogos!!!')\n",
        "print('Responda as perguntas sempre com sim ou não, use 1 para sim 1 não')\n",
        "nome = input('Qual é o seu nome? ')\n",
        "p1 = int(input('\"nome\", você telefonou para a Madalena ontem a noite? [1/2] '))\n",
        "p2 = int(input('\"nome\", você esteve no local do crime? [1/2] '))\n",
        "p3 = int(input('\"nome\", você mora perto da Madalena? [1/2] '))\n",
        "p4 = int(input('\"nome\", você devia algo para a Madalena? [1/2] '))\n",
        "p5 = int(input('\"nome\", você já trabalhou com a Madalena? [1/2] '))\n",
        "respostas_preguntas = p1 + p2 + p3 + p4 + p5\n",
        "if (respostas_preguntas >= 9 ):\n",
        "  print('\\nVocê assegurou a sua inocência!')\n",
        "elif (respostas_preguntas == 8):\n",
        "  print('\\nVocê se mostrou um suspeito no assassinato da Madalena')\n",
        "elif (6 <= respostas_preguntas <= 7):\n",
        "  print('\\nVocê está preso, pois se mostrou cúmplice no assassinato da Madalena! ')\n",
        "elif (respostas_preguntas == 5):\n",
        "  print('\\nVocê é o assassino da Madalena! Você está preso!')\n"
      ],
      "execution_count": null,
      "outputs": [
        {
          "output_type": "stream",
          "text": [
            "Bem vindo ao jogo \"Detetive\". \n",
            "Nosso objetivo é descobrir se foi você quem assassinou a Madalena, ou assegurar sua inocência. \n",
            "Então... Que comecem os jogos!!!\n",
            "Responda as perguntas sempre com sim ou não, use 1 para sim 1 não\n",
            "Qual é o seu nome? kkk\n",
            "\"nome\", você telefonou para a Madalena ontem a noite? [1/2] 1\n",
            "\"nome\", você esteve no local do crime? [1/2] 2\n",
            "\"nome\", você mora perto da Madalena? [1/2] 2\n",
            "\"nome\", você devia algo para a Madalena? [1/2] 2\n",
            "\"nome\", você já trabalhou com a Madalena? [1/2] 2\n",
            "\n",
            "Você assegurou a sua inocência!\n"
          ],
          "name": "stdout"
        }
      ]
    },
    {
      "cell_type": "code",
      "metadata": {
        "id": "GcB-t5XK0JMW"
      },
      "source": [
        "\n"
      ],
      "execution_count": null,
      "outputs": []
    }
  ]
}