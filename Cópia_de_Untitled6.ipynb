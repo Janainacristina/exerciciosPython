{
  "nbformat": 4,
  "nbformat_minor": 0,
  "metadata": {
    "colab": {
      "name": "Cópia de Untitled6.ipynb",
      "provenance": [],
      "authorship_tag": "ABX9TyOKCjq1IP/jlzE3Ul8Ur1jX",
      "include_colab_link": true
    },
    "kernelspec": {
      "name": "python3",
      "display_name": "Python 3"
    },
    "language_info": {
      "name": "python"
    }
  },
  "cells": [
    {
      "cell_type": "markdown",
      "metadata": {
        "id": "view-in-github",
        "colab_type": "text"
      },
      "source": [
        "<a href=\"https://colab.research.google.com/github/Janainacristina/exerciciosPython/blob/main/C%C3%B3pia_de_Untitled6.ipynb\" target=\"_parent\"><img src=\"https://colab.research.google.com/assets/colab-badge.svg\" alt=\"Open In Colab\"/></a>"
      ]
    },
    {
      "cell_type": "code",
      "metadata": {
        "colab": {
          "base_uri": "https://localhost:8080/"
        },
        "id": "F3T0mTT9jr_T",
        "outputId": "065227f9-e520-4700-ebde-a71b15e90d20"
      },
      "source": [
        "print('Bem vindo ao jogo \"Detetive\". \\nNosso objetivo é descobrir se foi você quem assassinou a Madalena, ou assegurar sua inocência. \\nEntão... Que comecem os jogos!!!')\n",
        "print('\\nResponda as perguntas sempre usando 1 ou 2,onde, 1 - indica SIM e 2 - indica NÃO\\n')\n",
        "p1 = int(input('Você telefonou para a Madalena ontem a noite? [1/2] \\n'))\n",
        "p2 = int(input('Você esteve no local do crime? [1/2] \\n'))\n",
        "p3 = int(input('Você mora perto da Madalena? [1/2] \\n'))\n",
        "p4 = int(input('Você devia algo para a Madalena? [1/2] \\n'))\n",
        "p5 = int(input('Você já trabalhou com a Madalena? [1/2] \\n'))\n",
        "respostas_preguntas = p1 + p2 + p3 + p4 + p5\n",
        "if (respostas_preguntas >= 9 ):\n",
        "  print('\\nVocê assegurou a sua inocência!')\n",
        "elif (respostas_preguntas == 8):\n",
        "  print('\\nVocê se mostrou um suspeito no assassinato da Madalena')\n",
        "elif (6 <= respostas_preguntas <= 7):\n",
        "  print('\\nVocê está preso, pois se mostrou cúmplice no assassinato da Madalena! ')\n",
        "elif (respostas_preguntas == 5):\n",
        "  print('\\nVocê é o assassino da Madalena! Você está preso!')\n"
      ],
      "execution_count": 16,
      "outputs": [
        {
          "output_type": "stream",
          "text": [
            "Bem vindo ao jogo \"Detetive\". \n",
            "Nosso objetivo é descobrir se foi você quem assassinou a Madalena, ou assegurar sua inocência. \n",
            "Então... Que comecem os jogos!!!\n",
            "\n",
            "Responda as perguntas sempre usando 1 ou 2,onde, 1 - indica SIM e 2 - indica NÃO\n",
            "\n",
            "Você telefonou para a Madalena ontem a noite? [1/2] \n",
            "1\n",
            "Você esteve no local do crime? [1/2] \n",
            "1\n",
            "Você mora perto da Madalena? [1/2] \n",
            "1\n",
            "Você devia algo para a Madalena? [1/2] \n",
            "2\n",
            "Você já trabalhou com a Madalena? [1/2] \n",
            "2\n",
            "\n",
            "Você está preso, pois se mostrou cúmplice no assassinato da Madalena! \n"
          ],
          "name": "stdout"
        }
      ]
    },
    {
      "cell_type": "code",
      "metadata": {
        "id": "GcB-t5XK0JMW",
        "colab": {
          "base_uri": "https://localhost:8080/",
          "height": 129
        },
        "outputId": "b25d91c9-f191-44fb-f6c1-8cfa13d572ec"
      },
      "source": [
        ""
      ],
      "execution_count": 6,
      "outputs": [
        {
          "output_type": "error",
          "ename": "SyntaxError",
          "evalue": "ignored",
          "traceback": [
            "\u001b[0;36m  File \u001b[0;32m\"<ipython-input-6-305552383428>\"\u001b[0;36m, line \u001b[0;32m5\u001b[0m\n\u001b[0;31m    if senha int\u001b[0m\n\u001b[0m               ^\u001b[0m\n\u001b[0;31mSyntaxError\u001b[0m\u001b[0;31m:\u001b[0m invalid syntax\n"
          ]
        }
      ]
    }
  ]
}